{
 "cells": [
  {
   "cell_type": "markdown",
   "id": "8dc99a7c",
   "metadata": {},
   "source": [
    "## Example of usage"
   ]
  },
  {
   "cell_type": "code",
   "execution_count": 5,
   "id": "8e08d468",
   "metadata": {},
   "outputs": [],
   "source": [
    "import numpy as np\n",
    "import pyximport\n",
    "_ = pyximport.install()\n",
    "from math_func_cython import solveFBern"
   ]
  },
  {
   "cell_type": "markdown",
   "id": "f55ceaa1",
   "metadata": {},
   "source": [
    "## Define the average reward for each arm"
   ]
  },
  {
   "cell_type": "code",
   "execution_count": 6,
   "id": "1c302b60",
   "metadata": {},
   "outputs": [],
   "source": [
    "mu = [0.6, 0.5]"
   ]
  },
  {
   "cell_type": "markdown",
   "id": "4f50de32",
   "metadata": {},
   "source": [
    "## Solve the problem"
   ]
  },
  {
   "cell_type": "code",
   "execution_count": 7,
   "id": "699cb6b4",
   "metadata": {},
   "outputs": [
    {
     "name": "stdout",
     "output_type": "stream",
     "text": [
      "T^(-1): 0.005059447899363592\n",
      "Sample complexity: 197.65002424983683\n",
      "Optimal weights: [0.50169393 0.49830607]\n"
     ]
    }
   ],
   "source": [
    "w, Tinv = solveFBern(np.ascontiguousarray(np.sort(mu)[::-1]))\n",
    "print(\"T^(-1): {}\".format(Tinv))\n",
    "print(\"Sample complexity: {}\".format(1/Tinv))\n",
    "print(\"Optimal weights: {}\".format(w))"
   ]
  }
 ],
 "metadata": {
  "kernelspec": {
   "display_name": "Python 3",
   "language": "python",
   "name": "python3"
  },
  "language_info": {
   "codemirror_mode": {
    "name": "ipython",
    "version": 3
   },
   "file_extension": ".py",
   "mimetype": "text/x-python",
   "name": "python",
   "nbconvert_exporter": "python",
   "pygments_lexer": "ipython3",
   "version": "3.6.13"
  }
 },
 "nbformat": 4,
 "nbformat_minor": 5
}
