{
 "cells": [
  {
   "cell_type": "markdown",
   "id": "9cec75f7",
   "metadata": {},
   "source": [
    "## Example of usage"
   ]
  },
  {
   "cell_type": "code",
   "execution_count": 1,
   "id": "bd0d8153",
   "metadata": {},
   "outputs": [],
   "source": [
    "import numpy as np\n",
    "import os\n",
    "import math\n",
    "\n",
    "import pyximport\n",
    "_ = pyximport.install()\n",
    "from math_func_cython import solveFBern, klBern, beta_threshold, Tconf"
   ]
  },
  {
   "cell_type": "markdown",
   "id": "25452f5a",
   "metadata": {},
   "source": [
    "## Define the average reward for each arm"
   ]
  },
  {
   "cell_type": "code",
   "execution_count": 2,
   "id": "c8ea69b9",
   "metadata": {},
   "outputs": [],
   "source": [
    "mu = [0.6, 0.5]"
   ]
  },
  {
   "cell_type": "markdown",
   "id": "b1475329",
   "metadata": {},
   "source": [
    "## Solve the problem"
   ]
  },
  {
   "cell_type": "code",
   "execution_count": 3,
   "id": "5214b4f0",
   "metadata": {},
   "outputs": [
    {
     "name": "stdout",
     "output_type": "stream",
     "text": [
      "0.020135513550688863\n",
      "aux x:4.547473508864641e-13\n",
      "0.5999999999999545\n",
      "---\n",
      "aux x:0.9898980362327165\n",
      "0.550253831190929\n",
      "---\n",
      "aux x:2.974757936199694\n",
      "0.5251587647864693\n",
      "---\n",
      "aux x:1.6512376920486531\n",
      "0.5377182326201497\n",
      "---\n",
      "aux x:1.2732692030344879\n",
      "0.5439895107304117\n",
      "---\n",
      "aux x:1.122123881067182\n",
      "0.5471226024513289\n",
      "---\n",
      "aux x:1.0538748878357183\n",
      "0.5486884574090954\n",
      "---\n",
      "aux x:1.0213778736419954\n",
      "0.5494712054109043\n",
      "---\n",
      "aux x:1.005513811300716\n",
      "0.5498625336991039\n",
      "---\n",
      "aux x:0.9976752529842088\n",
      "0.5500581863096197\n",
      "---\n",
      "aux x:0.9937790219287308\n",
      "0.5501560097183\n",
      "---\n",
      "aux x:0.9918366289989535\n",
      "0.5502049206968633\n",
      "---\n",
      "aux x:0.9928073497462719\n",
      "0.5501804652681215\n",
      "---\n",
      "aux x:0.9932930668214794\n",
      "0.5501682375083263\n",
      "---\n",
      "aux x:0.9930501785406705\n",
      "0.5501743513920061\n",
      "---\n",
      "aux x:0.993171615243682\n",
      "0.5501712944511175\n",
      "---\n",
      "aux x:0.9932323391726641\n",
      "0.5501697659799697\n",
      "---\n",
      "aux x:0.99326270253232\n",
      "0.5501690017442037\n",
      "---\n",
      "aux x:0.9932475207365314\n",
      "0.5501693838620949\n",
      "---\n",
      "aux x:0.9932399299254939\n",
      "0.5501695749210372\n",
      "---\n",
      "aux x:0.993243725323282\n",
      "0.5501694793915788\n",
      "---\n",
      "aux x:0.9932456230285425\n",
      "0.5501694316268257\n",
      "---\n",
      "aux x:0.9932465718816275\n",
      "0.5501694077444719\n",
      "---\n",
      "aux x:0.9932470463086247\n",
      "0.550169395803292\n",
      "---\n",
      "aux x:0.9932472835221233\n",
      "0.5501693898327042\n",
      "---\n",
      "aux x:0.9932471649158288\n",
      "0.5501693928179865\n",
      "---\n",
      "aux x:0.9932471056122267\n",
      "0.5501693943106392\n",
      "---\n",
      "aux x:0.993247135263573\n",
      "0.5501693935643243\n",
      "---\n",
      "aux x:0.9932471500901556\n",
      "0.5501693931911439\n",
      "---\n",
      "aux x:0.9932471575025374\n",
      "0.5501693930045767\n",
      "---\n",
      "aux x:0.9932471537963465\n",
      "0.5501693930978603\n",
      "---\n",
      "aux x:0.9932471519427963\n",
      "0.5501693931445135\n",
      "---\n",
      "aux x:0.9932471528695714\n",
      "0.550169393121187\n",
      "---\n",
      "aux x:0.9932471533334137\n",
      "0.5501693931095122\n",
      "---\n",
      "aux x:0.9932471535644254\n",
      "0.5501693931036976\n",
      "---\n",
      "aux x:0.9932471534489196\n",
      "0.550169393106605\n",
      "---\n",
      "0.010084730123135098\n"
     ]
    },
    {
     "ename": "KeyError",
     "evalue": "'-1'",
     "output_type": "error",
     "traceback": [
      "\u001b[0;31m---------------------------------------------------------------------------\u001b[0m",
      "\u001b[0;31mKeyError\u001b[0m                                  Traceback (most recent call last)",
      "\u001b[0;32m<ipython-input-3-934f34655fa6>\u001b[0m in \u001b[0;36m<module>\u001b[0;34m()\u001b[0m\n\u001b[1;32m      5\u001b[0m \u001b[0mz\u001b[0m\u001b[0;34m=\u001b[0m \u001b[0mnp\u001b[0m\u001b[0;34m.\u001b[0m\u001b[0mascontiguousarray\u001b[0m\u001b[0;34m(\u001b[0m\u001b[0mnp\u001b[0m\u001b[0;34m.\u001b[0m\u001b[0msort\u001b[0m\u001b[0;34m(\u001b[0m\u001b[0mmu\u001b[0m\u001b[0;34m)\u001b[0m\u001b[0;34m[\u001b[0m\u001b[0;34m:\u001b[0m\u001b[0;34m:\u001b[0m\u001b[0;34m-\u001b[0m\u001b[0;36m1\u001b[0m\u001b[0;34m]\u001b[0m\u001b[0;34m)\u001b[0m\u001b[0;34m\u001b[0m\u001b[0;34m\u001b[0m\u001b[0m\n\u001b[1;32m      6\u001b[0m \u001b[0mw\u001b[0m\u001b[0;34m,\u001b[0m \u001b[0mTinv\u001b[0m \u001b[0;34m=\u001b[0m \u001b[0msolveFBern\u001b[0m\u001b[0;34m(\u001b[0m\u001b[0mz\u001b[0m\u001b[0;34m)\u001b[0m\u001b[0;34m\u001b[0m\u001b[0;34m\u001b[0m\u001b[0m\n\u001b[0;32m----> 7\u001b[0;31m \u001b[0mprint\u001b[0m\u001b[0;34m(\u001b[0m\u001b[0;34m\"T^{-1}: {}\"\u001b[0m\u001b[0;34m.\u001b[0m\u001b[0mformat\u001b[0m\u001b[0;34m(\u001b[0m\u001b[0mTinv\u001b[0m\u001b[0;34m)\u001b[0m\u001b[0;34m)\u001b[0m\u001b[0;34m\u001b[0m\u001b[0;34m\u001b[0m\u001b[0m\n\u001b[0m\u001b[1;32m      8\u001b[0m \u001b[0mprint\u001b[0m\u001b[0;34m(\u001b[0m\u001b[0;34m\"Sample complexity: {}\"\u001b[0m\u001b[0;34m.\u001b[0m\u001b[0mformat\u001b[0m\u001b[0;34m(\u001b[0m\u001b[0;36m1\u001b[0m\u001b[0;34m/\u001b[0m\u001b[0mTinv\u001b[0m\u001b[0;34m)\u001b[0m\u001b[0;34m)\u001b[0m\u001b[0;34m\u001b[0m\u001b[0;34m\u001b[0m\u001b[0m\n\u001b[1;32m      9\u001b[0m \u001b[0mprint\u001b[0m\u001b[0;34m(\u001b[0m\u001b[0;34m\"Optimal weights: {}\"\u001b[0m\u001b[0;34m.\u001b[0m\u001b[0mformat\u001b[0m\u001b[0;34m(\u001b[0m\u001b[0mw\u001b[0m\u001b[0;34m)\u001b[0m\u001b[0;34m)\u001b[0m\u001b[0;34m\u001b[0m\u001b[0;34m\u001b[0m\u001b[0m\n",
      "\u001b[0;31mKeyError\u001b[0m: '-1'"
     ]
    }
   ],
   "source": [
    "K = len(mu)\n",
    "indexes_sort = np.argsort(mu)[::-1]\n",
    "invert_index = np.zeros(K, dtype=int)\n",
    "invert_index[indexes_sort] = np.arange(K)\n",
    "z= np.ascontiguousarray(np.sort(mu)[::-1])\n",
    "w, Tinv = solveFBern(z)\n",
    "print(\"T^{-1}: {}\".format(Tinv))\n",
    "print(\"Sample complexity: {}\".format(1/Tinv))\n",
    "print(\"Optimal weights: {}\".format(w))"
   ]
  },
  {
   "cell_type": "code",
   "execution_count": null,
   "id": "35779384",
   "metadata": {},
   "outputs": [],
   "source": []
  }
 ],
 "metadata": {
  "kernelspec": {
   "display_name": "Python 3",
   "language": "python",
   "name": "python3"
  },
  "language_info": {
   "codemirror_mode": {
    "name": "ipython",
    "version": 3
   },
   "file_extension": ".py",
   "mimetype": "text/x-python",
   "name": "python",
   "nbconvert_exporter": "python",
   "pygments_lexer": "ipython3",
   "version": "3.6.13"
  }
 },
 "nbformat": 4,
 "nbformat_minor": 5
}
